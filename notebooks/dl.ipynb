{
 "metadata": {
  "language_info": {
   "codemirror_mode": {
    "name": "ipython",
    "version": 3
   },
   "file_extension": ".py",
   "mimetype": "text/x-python",
   "name": "python",
   "nbconvert_exporter": "python",
   "pygments_lexer": "ipython3",
   "version": "3.9.0-final"
  },
  "orig_nbformat": 2,
  "kernelspec": {
   "name": "python3",
   "display_name": "Python 3.9.0 64-bit ('gold-stock-iWPZzkEC')",
   "metadata": {
    "interpreter": {
     "hash": "b0db43d9e1d025b82b6134a5c256bc7329de02c0fa884c2a401d85f7e2ae42d7"
    }
   }
  }
 },
 "nbformat": 4,
 "nbformat_minor": 2,
 "cells": [
  {
   "cell_type": "code",
   "execution_count": 3,
   "metadata": {},
   "outputs": [
    {
     "output_type": "stream",
     "name": "stdout",
     "text": [
      "[*********************100%***********************]  1 of 1 completed\n"
     ]
    }
   ],
   "source": [
    "import yfinance as yf\n",
    "df = yf.download('GLD','2020-12-01','2020-12-12')"
   ]
  },
  {
   "cell_type": "code",
   "execution_count": 4,
   "metadata": {},
   "outputs": [
    {
     "output_type": "execute_result",
     "data": {
      "text/plain": [
       "                  Open        High         Low       Close   Adj Close  \\\n",
       "Date                                                                     \n",
       "2020-11-30  166.679993  167.429993  166.029999  166.669998  166.669998   \n",
       "2020-12-01  169.759995  170.479996  169.300003  170.179993  170.179993   \n",
       "2020-12-02  170.570007  171.759995  170.149994  171.460007  171.460007   \n",
       "2020-12-03  172.639999  172.850006  171.080002  172.809998  172.809998   \n",
       "2020-12-04  172.779999  173.320007  171.589996  172.320007  172.320007   \n",
       "2020-12-07  172.559998  175.289993  172.509995  174.889999  174.889999   \n",
       "2020-12-08  175.509995  175.929993  174.720001  175.500000  175.500000   \n",
       "2020-12-09  173.919998  174.039993  171.240005  172.500000  172.500000   \n",
       "2020-12-10  172.899994  173.580002  171.699997  172.169998  172.169998   \n",
       "2020-12-11  172.250000  173.320007  172.110001  172.490005  172.490005   \n",
       "\n",
       "              Volume  \n",
       "Date                  \n",
       "2020-11-30  13210000  \n",
       "2020-12-01  13555200  \n",
       "2020-12-02   9199700  \n",
       "2020-12-03  10457300  \n",
       "2020-12-04  10098600  \n",
       "2020-12-07  10555100  \n",
       "2020-12-08   6348400  \n",
       "2020-12-09  10743200  \n",
       "2020-12-10   6564000  \n",
       "2020-12-11   6084100  "
      ],
      "text/html": "<div>\n<style scoped>\n    .dataframe tbody tr th:only-of-type {\n        vertical-align: middle;\n    }\n\n    .dataframe tbody tr th {\n        vertical-align: top;\n    }\n\n    .dataframe thead th {\n        text-align: right;\n    }\n</style>\n<table border=\"1\" class=\"dataframe\">\n  <thead>\n    <tr style=\"text-align: right;\">\n      <th></th>\n      <th>Open</th>\n      <th>High</th>\n      <th>Low</th>\n      <th>Close</th>\n      <th>Adj Close</th>\n      <th>Volume</th>\n    </tr>\n    <tr>\n      <th>Date</th>\n      <th></th>\n      <th></th>\n      <th></th>\n      <th></th>\n      <th></th>\n      <th></th>\n    </tr>\n  </thead>\n  <tbody>\n    <tr>\n      <th>2020-11-30</th>\n      <td>166.679993</td>\n      <td>167.429993</td>\n      <td>166.029999</td>\n      <td>166.669998</td>\n      <td>166.669998</td>\n      <td>13210000</td>\n    </tr>\n    <tr>\n      <th>2020-12-01</th>\n      <td>169.759995</td>\n      <td>170.479996</td>\n      <td>169.300003</td>\n      <td>170.179993</td>\n      <td>170.179993</td>\n      <td>13555200</td>\n    </tr>\n    <tr>\n      <th>2020-12-02</th>\n      <td>170.570007</td>\n      <td>171.759995</td>\n      <td>170.149994</td>\n      <td>171.460007</td>\n      <td>171.460007</td>\n      <td>9199700</td>\n    </tr>\n    <tr>\n      <th>2020-12-03</th>\n      <td>172.639999</td>\n      <td>172.850006</td>\n      <td>171.080002</td>\n      <td>172.809998</td>\n      <td>172.809998</td>\n      <td>10457300</td>\n    </tr>\n    <tr>\n      <th>2020-12-04</th>\n      <td>172.779999</td>\n      <td>173.320007</td>\n      <td>171.589996</td>\n      <td>172.320007</td>\n      <td>172.320007</td>\n      <td>10098600</td>\n    </tr>\n    <tr>\n      <th>2020-12-07</th>\n      <td>172.559998</td>\n      <td>175.289993</td>\n      <td>172.509995</td>\n      <td>174.889999</td>\n      <td>174.889999</td>\n      <td>10555100</td>\n    </tr>\n    <tr>\n      <th>2020-12-08</th>\n      <td>175.509995</td>\n      <td>175.929993</td>\n      <td>174.720001</td>\n      <td>175.500000</td>\n      <td>175.500000</td>\n      <td>6348400</td>\n    </tr>\n    <tr>\n      <th>2020-12-09</th>\n      <td>173.919998</td>\n      <td>174.039993</td>\n      <td>171.240005</td>\n      <td>172.500000</td>\n      <td>172.500000</td>\n      <td>10743200</td>\n    </tr>\n    <tr>\n      <th>2020-12-10</th>\n      <td>172.899994</td>\n      <td>173.580002</td>\n      <td>171.699997</td>\n      <td>172.169998</td>\n      <td>172.169998</td>\n      <td>6564000</td>\n    </tr>\n    <tr>\n      <th>2020-12-11</th>\n      <td>172.250000</td>\n      <td>173.320007</td>\n      <td>172.110001</td>\n      <td>172.490005</td>\n      <td>172.490005</td>\n      <td>6084100</td>\n    </tr>\n  </tbody>\n</table>\n</div>"
     },
     "metadata": {},
     "execution_count": 4
    }
   ],
   "source": [
    "df"
   ]
  },
  {
   "cell_type": "code",
   "execution_count": null,
   "metadata": {},
   "outputs": [],
   "source": []
  }
 ]
}